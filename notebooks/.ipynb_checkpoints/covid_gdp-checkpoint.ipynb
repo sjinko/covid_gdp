{
 "cells": [
  {
   "cell_type": "markdown",
   "metadata": {},
   "source": [
    "COVID GDP\n",
    "==========\n",
    "\n",
    "This notebook explores the relationship betwen COVID-19 cases and GDP "
   ]
  },
  {
   "cell_type": "markdown",
   "metadata": {},
   "source": [
    "# Define general variables"
   ]
  },
  {
   "cell_type": "code",
   "execution_count": 162,
   "metadata": {},
   "outputs": [],
   "source": [
    "\"\"\" Load modules \"\"\"\n",
    "import pandas as pd\n",
    "from matplotlib import pyplot as plt\n",
    "import numpy as np\n",
    "from sklearn.linear_model import LinearRegression\n",
    "from sklearn.preprocessing import PolynomialFeatures"
   ]
  },
  {
   "cell_type": "markdown",
   "metadata": {},
   "source": [
    "# Input data"
   ]
  },
  {
   "cell_type": "markdown",
   "metadata": {},
   "source": [
    "## Covid incidence and GDP data from Our World in Data"
   ]
  },
  {
   "cell_type": "code",
   "execution_count": 2,
   "metadata": {},
   "outputs": [],
   "source": [
    "\"\"\" Data file \"\"\"\n",
    "data_file = 'owd-data-total-covid_19_incidence_gdp_per_capita-20210130.csv'\n",
    "file_path = '../data/' + data_file"
   ]
  },
  {
   "cell_type": "code",
   "execution_count": 3,
   "metadata": {
    "scrolled": true
   },
   "outputs": [
    {
     "name": "stderr",
     "output_type": "stream",
     "text": [
      "/opt/anaconda3/lib/python3.8/site-packages/IPython/core/interactiveshell.py:3146: DtypeWarning: Columns (7) have mixed types.Specify dtype option on import or set low_memory=False.\n",
      "  has_raised = await self.run_ast_nodes(code_ast.body, cell_name,\n"
     ]
    }
   ],
   "source": [
    "\"\"\" Load GDP and covid data \"\"\"\n",
    "data = pd.read_csv(file_path)"
   ]
  },
  {
   "cell_type": "code",
   "execution_count": 41,
   "metadata": {},
   "outputs": [],
   "source": [
    "\"\"\" Rename data variables \"\"\"\n",
    "data.columns = ['country', 'code', 'year', 'continent', 'gdp', 'date', 'incidence', 'notes']"
   ]
  },
  {
   "cell_type": "code",
   "execution_count": 42,
   "metadata": {
    "scrolled": true
   },
   "outputs": [
    {
     "data": {
      "text/html": [
       "<div>\n",
       "<style scoped>\n",
       "    .dataframe tbody tr th:only-of-type {\n",
       "        vertical-align: middle;\n",
       "    }\n",
       "\n",
       "    .dataframe tbody tr th {\n",
       "        vertical-align: top;\n",
       "    }\n",
       "\n",
       "    .dataframe thead th {\n",
       "        text-align: right;\n",
       "    }\n",
       "</style>\n",
       "<table border=\"1\" class=\"dataframe\">\n",
       "  <thead>\n",
       "    <tr style=\"text-align: right;\">\n",
       "      <th></th>\n",
       "      <th>country</th>\n",
       "      <th>code</th>\n",
       "      <th>year</th>\n",
       "      <th>continent</th>\n",
       "      <th>gdp</th>\n",
       "      <th>date</th>\n",
       "      <th>incidence</th>\n",
       "      <th>notes</th>\n",
       "    </tr>\n",
       "  </thead>\n",
       "  <tbody>\n",
       "    <tr>\n",
       "      <th>0</th>\n",
       "      <td>Abkhazia</td>\n",
       "      <td>OWID_ABK</td>\n",
       "      <td>2015.0</td>\n",
       "      <td>Asia</td>\n",
       "      <td>NaN</td>\n",
       "      <td>NaN</td>\n",
       "      <td>NaN</td>\n",
       "      <td>NaN</td>\n",
       "    </tr>\n",
       "    <tr>\n",
       "      <th>1</th>\n",
       "      <td>Afghanistan</td>\n",
       "      <td>AFG</td>\n",
       "      <td>2002.0</td>\n",
       "      <td>NaN</td>\n",
       "      <td>1063.635574</td>\n",
       "      <td>NaN</td>\n",
       "      <td>NaN</td>\n",
       "      <td>NaN</td>\n",
       "    </tr>\n",
       "    <tr>\n",
       "      <th>2</th>\n",
       "      <td>Afghanistan</td>\n",
       "      <td>AFG</td>\n",
       "      <td>2003.0</td>\n",
       "      <td>NaN</td>\n",
       "      <td>1099.194507</td>\n",
       "      <td>NaN</td>\n",
       "      <td>NaN</td>\n",
       "      <td>NaN</td>\n",
       "    </tr>\n",
       "    <tr>\n",
       "      <th>3</th>\n",
       "      <td>Afghanistan</td>\n",
       "      <td>AFG</td>\n",
       "      <td>2004.0</td>\n",
       "      <td>NaN</td>\n",
       "      <td>1062.249360</td>\n",
       "      <td>NaN</td>\n",
       "      <td>NaN</td>\n",
       "      <td>NaN</td>\n",
       "    </tr>\n",
       "    <tr>\n",
       "      <th>4</th>\n",
       "      <td>Afghanistan</td>\n",
       "      <td>AFG</td>\n",
       "      <td>2005.0</td>\n",
       "      <td>NaN</td>\n",
       "      <td>1136.123214</td>\n",
       "      <td>NaN</td>\n",
       "      <td>NaN</td>\n",
       "      <td>NaN</td>\n",
       "    </tr>\n",
       "  </tbody>\n",
       "</table>\n",
       "</div>"
      ],
      "text/plain": [
       "       country      code    year continent          gdp date  incidence notes\n",
       "0     Abkhazia  OWID_ABK  2015.0      Asia          NaN  NaN        NaN   NaN\n",
       "1  Afghanistan       AFG  2002.0       NaN  1063.635574  NaN        NaN   NaN\n",
       "2  Afghanistan       AFG  2003.0       NaN  1099.194507  NaN        NaN   NaN\n",
       "3  Afghanistan       AFG  2004.0       NaN  1062.249360  NaN        NaN   NaN\n",
       "4  Afghanistan       AFG  2005.0       NaN  1136.123214  NaN        NaN   NaN"
      ]
     },
     "execution_count": 42,
     "metadata": {},
     "output_type": "execute_result"
    }
   ],
   "source": [
    "\"\"\" Check data \"\"\"\n",
    "data.head()"
   ]
  },
  {
   "cell_type": "code",
   "execution_count": 43,
   "metadata": {},
   "outputs": [],
   "source": [
    "\"\"\" Remove entries with no country code (continents and special locations)\"\"\"\n",
    "data.dropna(subset=['code'], inplace=True)"
   ]
  },
  {
   "cell_type": "code",
   "execution_count": 44,
   "metadata": {
    "scrolled": true
   },
   "outputs": [
    {
     "data": {
      "text/html": [
       "<div>\n",
       "<style scoped>\n",
       "    .dataframe tbody tr th:only-of-type {\n",
       "        vertical-align: middle;\n",
       "    }\n",
       "\n",
       "    .dataframe tbody tr th {\n",
       "        vertical-align: top;\n",
       "    }\n",
       "\n",
       "    .dataframe thead th {\n",
       "        text-align: right;\n",
       "    }\n",
       "</style>\n",
       "<table border=\"1\" class=\"dataframe\">\n",
       "  <thead>\n",
       "    <tr style=\"text-align: right;\">\n",
       "      <th></th>\n",
       "      <th>code</th>\n",
       "      <th>year</th>\n",
       "      <th>gdp</th>\n",
       "    </tr>\n",
       "  </thead>\n",
       "  <tbody>\n",
       "    <tr>\n",
       "      <th>1</th>\n",
       "      <td>AFG</td>\n",
       "      <td>2002.0</td>\n",
       "      <td>1063.635574</td>\n",
       "    </tr>\n",
       "    <tr>\n",
       "      <th>2</th>\n",
       "      <td>AFG</td>\n",
       "      <td>2003.0</td>\n",
       "      <td>1099.194507</td>\n",
       "    </tr>\n",
       "    <tr>\n",
       "      <th>3</th>\n",
       "      <td>AFG</td>\n",
       "      <td>2004.0</td>\n",
       "      <td>1062.249360</td>\n",
       "    </tr>\n",
       "    <tr>\n",
       "      <th>4</th>\n",
       "      <td>AFG</td>\n",
       "      <td>2005.0</td>\n",
       "      <td>1136.123214</td>\n",
       "    </tr>\n",
       "    <tr>\n",
       "      <th>5</th>\n",
       "      <td>AFG</td>\n",
       "      <td>2006.0</td>\n",
       "      <td>1161.124889</td>\n",
       "    </tr>\n",
       "  </tbody>\n",
       "</table>\n",
       "</div>"
      ],
      "text/plain": [
       "  code    year          gdp\n",
       "1  AFG  2002.0  1063.635574\n",
       "2  AFG  2003.0  1099.194507\n",
       "3  AFG  2004.0  1062.249360\n",
       "4  AFG  2005.0  1136.123214\n",
       "5  AFG  2006.0  1161.124889"
      ]
     },
     "execution_count": 44,
     "metadata": {},
     "output_type": "execute_result"
    }
   ],
   "source": [
    "\"\"\" Extract DGP per capital data \"\"\"\n",
    "gdp_data = data.loc[data.loc[:, 'gdp'].notnull(), ['code', 'year', 'gdp']].copy()\n",
    "gdp_data.head()"
   ]
  },
  {
   "cell_type": "code",
   "execution_count": 45,
   "metadata": {},
   "outputs": [
    {
     "data": {
      "text/html": [
       "<div>\n",
       "<style scoped>\n",
       "    .dataframe tbody tr th:only-of-type {\n",
       "        vertical-align: middle;\n",
       "    }\n",
       "\n",
       "    .dataframe tbody tr th {\n",
       "        vertical-align: top;\n",
       "    }\n",
       "\n",
       "    .dataframe thead th {\n",
       "        text-align: right;\n",
       "    }\n",
       "</style>\n",
       "<table border=\"1\" class=\"dataframe\">\n",
       "  <thead>\n",
       "    <tr style=\"text-align: right;\">\n",
       "      <th>year</th>\n",
       "      <th>1990.0</th>\n",
       "      <th>1991.0</th>\n",
       "      <th>1992.0</th>\n",
       "      <th>1993.0</th>\n",
       "      <th>1994.0</th>\n",
       "      <th>1995.0</th>\n",
       "      <th>1996.0</th>\n",
       "      <th>1997.0</th>\n",
       "      <th>1998.0</th>\n",
       "      <th>1999.0</th>\n",
       "      <th>...</th>\n",
       "      <th>2008.0</th>\n",
       "      <th>2009.0</th>\n",
       "      <th>2010.0</th>\n",
       "      <th>2011.0</th>\n",
       "      <th>2012.0</th>\n",
       "      <th>2013.0</th>\n",
       "      <th>2014.0</th>\n",
       "      <th>2015.0</th>\n",
       "      <th>2016.0</th>\n",
       "      <th>2017.0</th>\n",
       "    </tr>\n",
       "    <tr>\n",
       "      <th>code</th>\n",
       "      <th></th>\n",
       "      <th></th>\n",
       "      <th></th>\n",
       "      <th></th>\n",
       "      <th></th>\n",
       "      <th></th>\n",
       "      <th></th>\n",
       "      <th></th>\n",
       "      <th></th>\n",
       "      <th></th>\n",
       "      <th></th>\n",
       "      <th></th>\n",
       "      <th></th>\n",
       "      <th></th>\n",
       "      <th></th>\n",
       "      <th></th>\n",
       "      <th></th>\n",
       "      <th></th>\n",
       "      <th></th>\n",
       "      <th></th>\n",
       "      <th></th>\n",
       "    </tr>\n",
       "  </thead>\n",
       "  <tbody>\n",
       "    <tr>\n",
       "      <th>ABW</th>\n",
       "      <td>NaN</td>\n",
       "      <td>NaN</td>\n",
       "      <td>NaN</td>\n",
       "      <td>NaN</td>\n",
       "      <td>NaN</td>\n",
       "      <td>NaN</td>\n",
       "      <td>NaN</td>\n",
       "      <td>NaN</td>\n",
       "      <td>NaN</td>\n",
       "      <td>NaN</td>\n",
       "      <td>...</td>\n",
       "      <td>NaN</td>\n",
       "      <td>NaN</td>\n",
       "      <td>NaN</td>\n",
       "      <td>35973.780510</td>\n",
       "      <td>NaN</td>\n",
       "      <td>NaN</td>\n",
       "      <td>NaN</td>\n",
       "      <td>NaN</td>\n",
       "      <td>NaN</td>\n",
       "      <td>NaN</td>\n",
       "    </tr>\n",
       "    <tr>\n",
       "      <th>AFG</th>\n",
       "      <td>NaN</td>\n",
       "      <td>NaN</td>\n",
       "      <td>NaN</td>\n",
       "      <td>NaN</td>\n",
       "      <td>NaN</td>\n",
       "      <td>NaN</td>\n",
       "      <td>NaN</td>\n",
       "      <td>NaN</td>\n",
       "      <td>NaN</td>\n",
       "      <td>NaN</td>\n",
       "      <td>...</td>\n",
       "      <td>1298.143159</td>\n",
       "      <td>1531.173993</td>\n",
       "      <td>1614.255001</td>\n",
       "      <td>1660.739856</td>\n",
       "      <td>1839.273579</td>\n",
       "      <td>1848.700026</td>\n",
       "      <td>1838.960244</td>\n",
       "      <td>1809.016488</td>\n",
       "      <td>1802.695565</td>\n",
       "      <td>1803.987487</td>\n",
       "    </tr>\n",
       "    <tr>\n",
       "      <th>AGO</th>\n",
       "      <td>3430.798427</td>\n",
       "      <td>3359.374794</td>\n",
       "      <td>3062.042696</td>\n",
       "      <td>2252.051608</td>\n",
       "      <td>2210.066786</td>\n",
       "      <td>2465.396619</td>\n",
       "      <td>2720.521329</td>\n",
       "      <td>2839.758717</td>\n",
       "      <td>2893.334472</td>\n",
       "      <td>2873.883924</td>\n",
       "      <td>...</td>\n",
       "      <td>5978.323249</td>\n",
       "      <td>5908.042248</td>\n",
       "      <td>5897.682841</td>\n",
       "      <td>5911.254092</td>\n",
       "      <td>5999.902106</td>\n",
       "      <td>6188.003756</td>\n",
       "      <td>6257.152874</td>\n",
       "      <td>6227.664689</td>\n",
       "      <td>5972.451513</td>\n",
       "      <td>5819.494971</td>\n",
       "    </tr>\n",
       "    <tr>\n",
       "      <th>ALB</th>\n",
       "      <td>4722.838166</td>\n",
       "      <td>3345.504049</td>\n",
       "      <td>3123.512503</td>\n",
       "      <td>3444.321792</td>\n",
       "      <td>3753.169904</td>\n",
       "      <td>4278.689663</td>\n",
       "      <td>4697.153233</td>\n",
       "      <td>4214.358153</td>\n",
       "      <td>4623.026401</td>\n",
       "      <td>5280.527867</td>\n",
       "      <td>...</td>\n",
       "      <td>9153.788206</td>\n",
       "      <td>9524.649303</td>\n",
       "      <td>9927.181841</td>\n",
       "      <td>10207.764699</td>\n",
       "      <td>10369.823382</td>\n",
       "      <td>10492.806283</td>\n",
       "      <td>10701.120786</td>\n",
       "      <td>10970.452245</td>\n",
       "      <td>11356.341329</td>\n",
       "      <td>11803.430594</td>\n",
       "    </tr>\n",
       "    <tr>\n",
       "      <th>ARE</th>\n",
       "      <td>110432.464979</td>\n",
       "      <td>105171.409619</td>\n",
       "      <td>102615.170342</td>\n",
       "      <td>98224.516475</td>\n",
       "      <td>99529.780723</td>\n",
       "      <td>100976.945075</td>\n",
       "      <td>101754.295698</td>\n",
       "      <td>104829.027296</td>\n",
       "      <td>100018.103764</td>\n",
       "      <td>97753.828420</td>\n",
       "      <td>...</td>\n",
       "      <td>71314.668819</td>\n",
       "      <td>60769.861028</td>\n",
       "      <td>57232.618076</td>\n",
       "      <td>58363.678216</td>\n",
       "      <td>59419.089491</td>\n",
       "      <td>61688.380299</td>\n",
       "      <td>63943.185829</td>\n",
       "      <td>66569.403414</td>\n",
       "      <td>67705.949329</td>\n",
       "      <td>67293.482759</td>\n",
       "    </tr>\n",
       "  </tbody>\n",
       "</table>\n",
       "<p>5 rows × 28 columns</p>\n",
       "</div>"
      ],
      "text/plain": [
       "year         1990.0         1991.0         1992.0        1993.0        1994.0  \\\n",
       "code                                                                            \n",
       "ABW             NaN            NaN            NaN           NaN           NaN   \n",
       "AFG             NaN            NaN            NaN           NaN           NaN   \n",
       "AGO     3430.798427    3359.374794    3062.042696   2252.051608   2210.066786   \n",
       "ALB     4722.838166    3345.504049    3123.512503   3444.321792   3753.169904   \n",
       "ARE   110432.464979  105171.409619  102615.170342  98224.516475  99529.780723   \n",
       "\n",
       "year         1995.0         1996.0         1997.0         1998.0  \\\n",
       "code                                                               \n",
       "ABW             NaN            NaN            NaN            NaN   \n",
       "AFG             NaN            NaN            NaN            NaN   \n",
       "AGO     2465.396619    2720.521329    2839.758717    2893.334472   \n",
       "ALB     4278.689663    4697.153233    4214.358153    4623.026401   \n",
       "ARE   100976.945075  101754.295698  104829.027296  100018.103764   \n",
       "\n",
       "year        1999.0  ...        2008.0        2009.0        2010.0  \\\n",
       "code                ...                                             \n",
       "ABW            NaN  ...           NaN           NaN           NaN   \n",
       "AFG            NaN  ...   1298.143159   1531.173993   1614.255001   \n",
       "AGO    2873.883924  ...   5978.323249   5908.042248   5897.682841   \n",
       "ALB    5280.527867  ...   9153.788206   9524.649303   9927.181841   \n",
       "ARE   97753.828420  ...  71314.668819  60769.861028  57232.618076   \n",
       "\n",
       "year        2011.0        2012.0        2013.0        2014.0        2015.0  \\\n",
       "code                                                                         \n",
       "ABW   35973.780510           NaN           NaN           NaN           NaN   \n",
       "AFG    1660.739856   1839.273579   1848.700026   1838.960244   1809.016488   \n",
       "AGO    5911.254092   5999.902106   6188.003756   6257.152874   6227.664689   \n",
       "ALB   10207.764699  10369.823382  10492.806283  10701.120786  10970.452245   \n",
       "ARE   58363.678216  59419.089491  61688.380299  63943.185829  66569.403414   \n",
       "\n",
       "year        2016.0        2017.0  \n",
       "code                              \n",
       "ABW            NaN           NaN  \n",
       "AFG    1802.695565   1803.987487  \n",
       "AGO    5972.451513   5819.494971  \n",
       "ALB   11356.341329  11803.430594  \n",
       "ARE   67705.949329  67293.482759  \n",
       "\n",
       "[5 rows x 28 columns]"
      ]
     },
     "execution_count": 45,
     "metadata": {},
     "output_type": "execute_result"
    }
   ],
   "source": [
    "\"\"\" Reshape GDP data by annual value \"\"\"\n",
    "gdp_annual = gdp_data.pivot(index='code', columns='year', values='gdp')\n",
    "gdp_annual.head()"
   ]
  },
  {
   "cell_type": "code",
   "execution_count": 48,
   "metadata": {},
   "outputs": [
    {
     "data": {
      "text/html": [
       "<div>\n",
       "<style scoped>\n",
       "    .dataframe tbody tr th:only-of-type {\n",
       "        vertical-align: middle;\n",
       "    }\n",
       "\n",
       "    .dataframe tbody tr th {\n",
       "        vertical-align: top;\n",
       "    }\n",
       "\n",
       "    .dataframe thead th {\n",
       "        text-align: right;\n",
       "    }\n",
       "</style>\n",
       "<table border=\"1\" class=\"dataframe\">\n",
       "  <thead>\n",
       "    <tr style=\"text-align: right;\">\n",
       "      <th></th>\n",
       "      <th>code</th>\n",
       "      <th>date</th>\n",
       "      <th>incidence</th>\n",
       "    </tr>\n",
       "  </thead>\n",
       "  <tbody>\n",
       "    <tr>\n",
       "      <th>17</th>\n",
       "      <td>AFG</td>\n",
       "      <td>2020-02-24</td>\n",
       "      <td>0.026</td>\n",
       "    </tr>\n",
       "    <tr>\n",
       "      <th>18</th>\n",
       "      <td>AFG</td>\n",
       "      <td>2020-02-25</td>\n",
       "      <td>0.026</td>\n",
       "    </tr>\n",
       "    <tr>\n",
       "      <th>19</th>\n",
       "      <td>AFG</td>\n",
       "      <td>2020-02-26</td>\n",
       "      <td>0.026</td>\n",
       "    </tr>\n",
       "    <tr>\n",
       "      <th>20</th>\n",
       "      <td>AFG</td>\n",
       "      <td>2020-02-27</td>\n",
       "      <td>0.026</td>\n",
       "    </tr>\n",
       "    <tr>\n",
       "      <th>21</th>\n",
       "      <td>AFG</td>\n",
       "      <td>2020-02-28</td>\n",
       "      <td>0.026</td>\n",
       "    </tr>\n",
       "  </tbody>\n",
       "</table>\n",
       "</div>"
      ],
      "text/plain": [
       "   code        date  incidence\n",
       "17  AFG  2020-02-24      0.026\n",
       "18  AFG  2020-02-25      0.026\n",
       "19  AFG  2020-02-26      0.026\n",
       "20  AFG  2020-02-27      0.026\n",
       "21  AFG  2020-02-28      0.026"
      ]
     },
     "execution_count": 48,
     "metadata": {},
     "output_type": "execute_result"
    }
   ],
   "source": [
    "\"\"\" Extract covid incidence data \"\"\"\n",
    "covid_data = data.loc[data.loc[:, 'incidence'].notnull(), ['code', 'date', 'incidence']].copy()\n",
    "covid_data.head()"
   ]
  },
  {
   "cell_type": "code",
   "execution_count": 50,
   "metadata": {},
   "outputs": [
    {
     "data": {
      "text/html": [
       "<div>\n",
       "<style scoped>\n",
       "    .dataframe tbody tr th:only-of-type {\n",
       "        vertical-align: middle;\n",
       "    }\n",
       "\n",
       "    .dataframe tbody tr th {\n",
       "        vertical-align: top;\n",
       "    }\n",
       "\n",
       "    .dataframe thead th {\n",
       "        text-align: right;\n",
       "    }\n",
       "</style>\n",
       "<table border=\"1\" class=\"dataframe\">\n",
       "  <thead>\n",
       "    <tr style=\"text-align: right;\">\n",
       "      <th>date</th>\n",
       "      <th>2020-01-22</th>\n",
       "      <th>2020-01-23</th>\n",
       "      <th>2020-01-24</th>\n",
       "      <th>2020-01-25</th>\n",
       "      <th>2020-01-26</th>\n",
       "      <th>2020-01-27</th>\n",
       "      <th>2020-01-28</th>\n",
       "      <th>2020-01-29</th>\n",
       "      <th>2020-01-30</th>\n",
       "      <th>2020-01-31</th>\n",
       "      <th>...</th>\n",
       "      <th>2021-01-20</th>\n",
       "      <th>2021-01-21</th>\n",
       "      <th>2021-01-22</th>\n",
       "      <th>2021-01-23</th>\n",
       "      <th>2021-01-24</th>\n",
       "      <th>2021-01-25</th>\n",
       "      <th>2021-01-26</th>\n",
       "      <th>2021-01-27</th>\n",
       "      <th>2021-01-28</th>\n",
       "      <th>2021-01-29</th>\n",
       "    </tr>\n",
       "    <tr>\n",
       "      <th>code</th>\n",
       "      <th></th>\n",
       "      <th></th>\n",
       "      <th></th>\n",
       "      <th></th>\n",
       "      <th></th>\n",
       "      <th></th>\n",
       "      <th></th>\n",
       "      <th></th>\n",
       "      <th></th>\n",
       "      <th></th>\n",
       "      <th></th>\n",
       "      <th></th>\n",
       "      <th></th>\n",
       "      <th></th>\n",
       "      <th></th>\n",
       "      <th></th>\n",
       "      <th></th>\n",
       "      <th></th>\n",
       "      <th></th>\n",
       "      <th></th>\n",
       "      <th></th>\n",
       "    </tr>\n",
       "  </thead>\n",
       "  <tbody>\n",
       "    <tr>\n",
       "      <th>AFG</th>\n",
       "      <td>NaN</td>\n",
       "      <td>NaN</td>\n",
       "      <td>NaN</td>\n",
       "      <td>NaN</td>\n",
       "      <td>NaN</td>\n",
       "      <td>NaN</td>\n",
       "      <td>NaN</td>\n",
       "      <td>NaN</td>\n",
       "      <td>NaN</td>\n",
       "      <td>NaN</td>\n",
       "      <td>...</td>\n",
       "      <td>1394.306</td>\n",
       "      <td>1397.517</td>\n",
       "      <td>1399.572</td>\n",
       "      <td>1401.524</td>\n",
       "      <td>1402.449</td>\n",
       "      <td>1404.427</td>\n",
       "      <td>1406.430</td>\n",
       "      <td>1409.102</td>\n",
       "      <td>1410.052</td>\n",
       "      <td>1411.285</td>\n",
       "    </tr>\n",
       "    <tr>\n",
       "      <th>AGO</th>\n",
       "      <td>NaN</td>\n",
       "      <td>NaN</td>\n",
       "      <td>NaN</td>\n",
       "      <td>NaN</td>\n",
       "      <td>NaN</td>\n",
       "      <td>NaN</td>\n",
       "      <td>NaN</td>\n",
       "      <td>NaN</td>\n",
       "      <td>NaN</td>\n",
       "      <td>NaN</td>\n",
       "      <td>...</td>\n",
       "      <td>580.930</td>\n",
       "      <td>583.486</td>\n",
       "      <td>586.285</td>\n",
       "      <td>589.267</td>\n",
       "      <td>590.240</td>\n",
       "      <td>592.583</td>\n",
       "      <td>594.926</td>\n",
       "      <td>595.748</td>\n",
       "      <td>598.547</td>\n",
       "      <td>600.099</td>\n",
       "    </tr>\n",
       "    <tr>\n",
       "      <th>ALB</th>\n",
       "      <td>NaN</td>\n",
       "      <td>NaN</td>\n",
       "      <td>NaN</td>\n",
       "      <td>NaN</td>\n",
       "      <td>NaN</td>\n",
       "      <td>NaN</td>\n",
       "      <td>NaN</td>\n",
       "      <td>NaN</td>\n",
       "      <td>NaN</td>\n",
       "      <td>NaN</td>\n",
       "      <td>...</td>\n",
       "      <td>24059.351</td>\n",
       "      <td>24294.948</td>\n",
       "      <td>24551.741</td>\n",
       "      <td>24824.866</td>\n",
       "      <td>25114.323</td>\n",
       "      <td>25301.272</td>\n",
       "      <td>25606.713</td>\n",
       "      <td>25911.113</td>\n",
       "      <td>26219.334</td>\n",
       "      <td>26530.683</td>\n",
       "    </tr>\n",
       "    <tr>\n",
       "      <th>AND</th>\n",
       "      <td>NaN</td>\n",
       "      <td>NaN</td>\n",
       "      <td>NaN</td>\n",
       "      <td>NaN</td>\n",
       "      <td>NaN</td>\n",
       "      <td>NaN</td>\n",
       "      <td>NaN</td>\n",
       "      <td>NaN</td>\n",
       "      <td>NaN</td>\n",
       "      <td>NaN</td>\n",
       "      <td>...</td>\n",
       "      <td>120468.517</td>\n",
       "      <td>121387.433</td>\n",
       "      <td>121866.304</td>\n",
       "      <td>122940.529</td>\n",
       "      <td>123587.653</td>\n",
       "      <td>124195.949</td>\n",
       "      <td>124739.533</td>\n",
       "      <td>125749.045</td>\n",
       "      <td>126564.421</td>\n",
       "      <td>127315.084</td>\n",
       "    </tr>\n",
       "    <tr>\n",
       "      <th>ARE</th>\n",
       "      <td>NaN</td>\n",
       "      <td>NaN</td>\n",
       "      <td>NaN</td>\n",
       "      <td>NaN</td>\n",
       "      <td>NaN</td>\n",
       "      <td>NaN</td>\n",
       "      <td>NaN</td>\n",
       "      <td>0.404</td>\n",
       "      <td>0.404</td>\n",
       "      <td>0.404</td>\n",
       "      <td>...</td>\n",
       "      <td>26665.150</td>\n",
       "      <td>27021.961</td>\n",
       "      <td>27381.097</td>\n",
       "      <td>27741.648</td>\n",
       "      <td>28103.515</td>\n",
       "      <td>28466.594</td>\n",
       "      <td>28830.684</td>\n",
       "      <td>29228.949</td>\n",
       "      <td>29629.944</td>\n",
       "      <td>30030.535</td>\n",
       "    </tr>\n",
       "  </tbody>\n",
       "</table>\n",
       "<p>5 rows × 374 columns</p>\n",
       "</div>"
      ],
      "text/plain": [
       "date  2020-01-22  2020-01-23  2020-01-24  2020-01-25  2020-01-26  2020-01-27  \\\n",
       "code                                                                           \n",
       "AFG          NaN         NaN         NaN         NaN         NaN         NaN   \n",
       "AGO          NaN         NaN         NaN         NaN         NaN         NaN   \n",
       "ALB          NaN         NaN         NaN         NaN         NaN         NaN   \n",
       "AND          NaN         NaN         NaN         NaN         NaN         NaN   \n",
       "ARE          NaN         NaN         NaN         NaN         NaN         NaN   \n",
       "\n",
       "date  2020-01-28  2020-01-29  2020-01-30  2020-01-31  ...  2021-01-20  \\\n",
       "code                                                  ...               \n",
       "AFG          NaN         NaN         NaN         NaN  ...    1394.306   \n",
       "AGO          NaN         NaN         NaN         NaN  ...     580.930   \n",
       "ALB          NaN         NaN         NaN         NaN  ...   24059.351   \n",
       "AND          NaN         NaN         NaN         NaN  ...  120468.517   \n",
       "ARE          NaN       0.404       0.404       0.404  ...   26665.150   \n",
       "\n",
       "date  2021-01-21  2021-01-22  2021-01-23  2021-01-24  2021-01-25  2021-01-26  \\\n",
       "code                                                                           \n",
       "AFG     1397.517    1399.572    1401.524    1402.449    1404.427    1406.430   \n",
       "AGO      583.486     586.285     589.267     590.240     592.583     594.926   \n",
       "ALB    24294.948   24551.741   24824.866   25114.323   25301.272   25606.713   \n",
       "AND   121387.433  121866.304  122940.529  123587.653  124195.949  124739.533   \n",
       "ARE    27021.961   27381.097   27741.648   28103.515   28466.594   28830.684   \n",
       "\n",
       "date  2021-01-27  2021-01-28  2021-01-29  \n",
       "code                                      \n",
       "AFG     1409.102    1410.052    1411.285  \n",
       "AGO      595.748     598.547     600.099  \n",
       "ALB    25911.113   26219.334   26530.683  \n",
       "AND   125749.045  126564.421  127315.084  \n",
       "ARE    29228.949   29629.944   30030.535  \n",
       "\n",
       "[5 rows x 374 columns]"
      ]
     },
     "execution_count": 50,
     "metadata": {},
     "output_type": "execute_result"
    }
   ],
   "source": [
    "covid_daily = covid_data.pivot(index='code', columns='date', values='incidence')\n",
    "covid_daily.head()"
   ]
  },
  {
   "cell_type": "code",
   "execution_count": 67,
   "metadata": {},
   "outputs": [
    {
     "data": {
      "text/html": [
       "<div>\n",
       "<style scoped>\n",
       "    .dataframe tbody tr th:only-of-type {\n",
       "        vertical-align: middle;\n",
       "    }\n",
       "\n",
       "    .dataframe tbody tr th {\n",
       "        vertical-align: top;\n",
       "    }\n",
       "\n",
       "    .dataframe thead th {\n",
       "        text-align: right;\n",
       "    }\n",
       "</style>\n",
       "<table border=\"1\" class=\"dataframe\">\n",
       "  <thead>\n",
       "    <tr style=\"text-align: right;\">\n",
       "      <th>date</th>\n",
       "      <th>2021-01-21</th>\n",
       "      <th>2021-01-22</th>\n",
       "      <th>2021-01-23</th>\n",
       "      <th>2021-01-24</th>\n",
       "      <th>2021-01-25</th>\n",
       "      <th>2021-01-26</th>\n",
       "      <th>2021-01-27</th>\n",
       "      <th>2021-01-28</th>\n",
       "    </tr>\n",
       "  </thead>\n",
       "  <tbody>\n",
       "    <tr>\n",
       "      <th>count</th>\n",
       "      <td>191.000000</td>\n",
       "      <td>191.000000</td>\n",
       "      <td>191.000000</td>\n",
       "      <td>191.000000</td>\n",
       "      <td>191.000000</td>\n",
       "      <td>191.000000</td>\n",
       "      <td>191.000000</td>\n",
       "      <td>191.000000</td>\n",
       "    </tr>\n",
       "    <tr>\n",
       "      <th>mean</th>\n",
       "      <td>18838.067267</td>\n",
       "      <td>18976.196550</td>\n",
       "      <td>19094.119168</td>\n",
       "      <td>19182.097487</td>\n",
       "      <td>19292.338681</td>\n",
       "      <td>19406.046136</td>\n",
       "      <td>19541.387932</td>\n",
       "      <td>19669.637052</td>\n",
       "    </tr>\n",
       "    <tr>\n",
       "      <th>std</th>\n",
       "      <td>23070.675136</td>\n",
       "      <td>23219.259909</td>\n",
       "      <td>23358.244565</td>\n",
       "      <td>23453.069716</td>\n",
       "      <td>23582.398321</td>\n",
       "      <td>23721.507584</td>\n",
       "      <td>23889.491624</td>\n",
       "      <td>24049.970599</td>\n",
       "    </tr>\n",
       "    <tr>\n",
       "      <th>min</th>\n",
       "      <td>3.256000</td>\n",
       "      <td>3.256000</td>\n",
       "      <td>3.256000</td>\n",
       "      <td>3.256000</td>\n",
       "      <td>3.256000</td>\n",
       "      <td>3.256000</td>\n",
       "      <td>3.256000</td>\n",
       "      <td>3.256000</td>\n",
       "    </tr>\n",
       "    <tr>\n",
       "      <th>25%</th>\n",
       "      <td>1069.579500</td>\n",
       "      <td>1070.569500</td>\n",
       "      <td>1097.825500</td>\n",
       "      <td>1099.197000</td>\n",
       "      <td>1101.977000</td>\n",
       "      <td>1102.129500</td>\n",
       "      <td>1116.565000</td>\n",
       "      <td>1125.558500</td>\n",
       "    </tr>\n",
       "    <tr>\n",
       "      <th>50%</th>\n",
       "      <td>8357.625000</td>\n",
       "      <td>8537.603000</td>\n",
       "      <td>8589.737000</td>\n",
       "      <td>8607.710000</td>\n",
       "      <td>8784.564000</td>\n",
       "      <td>8784.564000</td>\n",
       "      <td>8784.564000</td>\n",
       "      <td>9054.590000</td>\n",
       "    </tr>\n",
       "    <tr>\n",
       "      <th>75%</th>\n",
       "      <td>31867.011000</td>\n",
       "      <td>32216.925000</td>\n",
       "      <td>32458.150500</td>\n",
       "      <td>32761.152000</td>\n",
       "      <td>32820.265500</td>\n",
       "      <td>33102.265000</td>\n",
       "      <td>33394.651500</td>\n",
       "      <td>33580.013500</td>\n",
       "    </tr>\n",
       "    <tr>\n",
       "      <th>max</th>\n",
       "      <td>121387.433000</td>\n",
       "      <td>121866.304000</td>\n",
       "      <td>122940.529000</td>\n",
       "      <td>123587.653000</td>\n",
       "      <td>124195.949000</td>\n",
       "      <td>124739.533000</td>\n",
       "      <td>125749.045000</td>\n",
       "      <td>126564.421000</td>\n",
       "    </tr>\n",
       "  </tbody>\n",
       "</table>\n",
       "</div>"
      ],
      "text/plain": [
       "date      2021-01-21     2021-01-22     2021-01-23     2021-01-24  \\\n",
       "count     191.000000     191.000000     191.000000     191.000000   \n",
       "mean    18838.067267   18976.196550   19094.119168   19182.097487   \n",
       "std     23070.675136   23219.259909   23358.244565   23453.069716   \n",
       "min         3.256000       3.256000       3.256000       3.256000   \n",
       "25%      1069.579500    1070.569500    1097.825500    1099.197000   \n",
       "50%      8357.625000    8537.603000    8589.737000    8607.710000   \n",
       "75%     31867.011000   32216.925000   32458.150500   32761.152000   \n",
       "max    121387.433000  121866.304000  122940.529000  123587.653000   \n",
       "\n",
       "date      2021-01-25     2021-01-26     2021-01-27     2021-01-28  \n",
       "count     191.000000     191.000000     191.000000     191.000000  \n",
       "mean    19292.338681   19406.046136   19541.387932   19669.637052  \n",
       "std     23582.398321   23721.507584   23889.491624   24049.970599  \n",
       "min         3.256000       3.256000       3.256000       3.256000  \n",
       "25%      1101.977000    1102.129500    1116.565000    1125.558500  \n",
       "50%      8784.564000    8784.564000    8784.564000    9054.590000  \n",
       "75%     32820.265500   33102.265000   33394.651500   33580.013500  \n",
       "max    124195.949000  124739.533000  125749.045000  126564.421000  "
      ]
     },
     "execution_count": 67,
     "metadata": {},
     "output_type": "execute_result"
    }
   ],
   "source": [
    "\"\"\" Select latest date with no missing data \"\"\"\n",
    "covid_daily.loc[:, ~covid_daily.isnull().any()].describe()"
   ]
  },
  {
   "cell_type": "markdown",
   "metadata": {},
   "source": [
    "From this data, it seems that all countries have been touched by covid since January 21, 2021. To be further investigated with plot"
   ]
  },
  {
   "cell_type": "code",
   "execution_count": 105,
   "metadata": {},
   "outputs": [
    {
     "data": {
      "image/png": "[encoded data removed]",
      "text/plain": [
       "<Figure size 1368x1080 with 1 Axes>"
      ]
     },
     "metadata": {
      "needs_background": "light"
     },
     "output_type": "display_data"
    }
   ],
   "source": [
    "df = covid_daily\n",
    "\n",
    "f = plt.figure(figsize=(19, 15))\n",
    "plt.matshow(df, fignum=f.number)\n",
    "#plt.xticks(range(df.select_dtypes(['number']).shape[1]), df.select_dtypes(['number']).columns, fontsize=14, rotation=45)\n",
    "#plt.yticks(range(df.select_dtypes(['number']).shape[1]), df.select_dtypes(['number']).columns, fontsize=14)\n",
    "#cb = plt.colorbar()\n",
    "#cb.ax.tick_params(labelsize=14)\n",
    "plt.title('Covid incidence total', fontsize=16);"
   ]
  },
  {
   "cell_type": "code",
   "execution_count": 109,
   "metadata": {},
   "outputs": [
    {
     "data": {
      "text/html": [
       "<div>\n",
       "<style scoped>\n",
       "    .dataframe tbody tr th:only-of-type {\n",
       "        vertical-align: middle;\n",
       "    }\n",
       "\n",
       "    .dataframe tbody tr th {\n",
       "        vertical-align: top;\n",
       "    }\n",
       "\n",
       "    .dataframe thead th {\n",
       "        text-align: right;\n",
       "    }\n",
       "</style>\n",
       "<table border=\"1\" class=\"dataframe\">\n",
       "  <thead>\n",
       "    <tr style=\"text-align: right;\">\n",
       "      <th>date</th>\n",
       "      <th>2020-01-22</th>\n",
       "      <th>2020-01-23</th>\n",
       "      <th>2020-01-24</th>\n",
       "      <th>2020-01-25</th>\n",
       "      <th>2020-01-26</th>\n",
       "      <th>2020-01-27</th>\n",
       "      <th>2020-01-28</th>\n",
       "      <th>2020-01-29</th>\n",
       "      <th>2020-01-30</th>\n",
       "      <th>2020-01-31</th>\n",
       "      <th>...</th>\n",
       "      <th>2021-01-20</th>\n",
       "      <th>2021-01-21</th>\n",
       "      <th>2021-01-22</th>\n",
       "      <th>2021-01-23</th>\n",
       "      <th>2021-01-24</th>\n",
       "      <th>2021-01-25</th>\n",
       "      <th>2021-01-26</th>\n",
       "      <th>2021-01-27</th>\n",
       "      <th>2021-01-28</th>\n",
       "      <th>2021-01-29</th>\n",
       "    </tr>\n",
       "    <tr>\n",
       "      <th>code</th>\n",
       "      <th></th>\n",
       "      <th></th>\n",
       "      <th></th>\n",
       "      <th></th>\n",
       "      <th></th>\n",
       "      <th></th>\n",
       "      <th></th>\n",
       "      <th></th>\n",
       "      <th></th>\n",
       "      <th></th>\n",
       "      <th></th>\n",
       "      <th></th>\n",
       "      <th></th>\n",
       "      <th></th>\n",
       "      <th></th>\n",
       "      <th></th>\n",
       "      <th></th>\n",
       "      <th></th>\n",
       "      <th></th>\n",
       "      <th></th>\n",
       "      <th></th>\n",
       "    </tr>\n",
       "  </thead>\n",
       "  <tbody>\n",
       "    <tr>\n",
       "      <th>FSM</th>\n",
       "      <td>NaN</td>\n",
       "      <td>NaN</td>\n",
       "      <td>NaN</td>\n",
       "      <td>NaN</td>\n",
       "      <td>NaN</td>\n",
       "      <td>NaN</td>\n",
       "      <td>NaN</td>\n",
       "      <td>NaN</td>\n",
       "      <td>NaN</td>\n",
       "      <td>NaN</td>\n",
       "      <td>...</td>\n",
       "      <td>NaN</td>\n",
       "      <td>8.694</td>\n",
       "      <td>8.694</td>\n",
       "      <td>8.694</td>\n",
       "      <td>8.694</td>\n",
       "      <td>8.694</td>\n",
       "      <td>8.694</td>\n",
       "      <td>8.694</td>\n",
       "      <td>8.694</td>\n",
       "      <td>8.694</td>\n",
       "    </tr>\n",
       "  </tbody>\n",
       "</table>\n",
       "<p>1 rows × 374 columns</p>\n",
       "</div>"
      ],
      "text/plain": [
       "date  2020-01-22  2020-01-23  2020-01-24  2020-01-25  2020-01-26  2020-01-27  \\\n",
       "code                                                                           \n",
       "FSM          NaN         NaN         NaN         NaN         NaN         NaN   \n",
       "\n",
       "date  2020-01-28  2020-01-29  2020-01-30  2020-01-31  ...  2021-01-20  \\\n",
       "code                                                  ...               \n",
       "FSM          NaN         NaN         NaN         NaN  ...         NaN   \n",
       "\n",
       "date  2021-01-21  2021-01-22  2021-01-23  2021-01-24  2021-01-25  2021-01-26  \\\n",
       "code                                                                           \n",
       "FSM        8.694       8.694       8.694       8.694       8.694       8.694   \n",
       "\n",
       "date  2021-01-27  2021-01-28  2021-01-29  \n",
       "code                                      \n",
       "FSM        8.694       8.694       8.694  \n",
       "\n",
       "[1 rows x 374 columns]"
      ]
     },
     "execution_count": 109,
     "metadata": {},
     "output_type": "execute_result"
    }
   ],
   "source": [
    "\"\"\" Check which country was last to declare covid-19 cases \"\"\"\n",
    "covid_daily.loc[covid_daily.loc[:, '2021-01-20'].isnull()]"
   ]
  },
  {
   "cell_type": "markdown",
   "metadata": {},
   "source": [
    "On January 20, 2021, the Federal States of Micronesia was the last state to publically declare existing cases of COVID-19 on its territory."
   ]
  },
  {
   "cell_type": "code",
   "execution_count": 133,
   "metadata": {},
   "outputs": [],
   "source": [
    "covid_latest = covid_daily.loc[:, '2021-01-28']\n",
    "covid_latest = np.log(covid_latest)"
   ]
  },
  {
   "cell_type": "code",
   "execution_count": 128,
   "metadata": {},
   "outputs": [],
   "source": [
    "gdp_latest = gdp_annual.loc[:, 2015]"
   ]
  },
  {
   "cell_type": "code",
   "execution_count": 131,
   "metadata": {},
   "outputs": [],
   "source": [
    "gdp_latest = np.log(gdp_latest)"
   ]
  },
  {
   "cell_type": "code",
   "execution_count": 194,
   "metadata": {},
   "outputs": [
    {
     "data": {
      "text/html": [
       "<div>\n",
       "<style scoped>\n",
       "    .dataframe tbody tr th:only-of-type {\n",
       "        vertical-align: middle;\n",
       "    }\n",
       "\n",
       "    .dataframe tbody tr th {\n",
       "        vertical-align: top;\n",
       "    }\n",
       "\n",
       "    .dataframe thead th {\n",
       "        text-align: right;\n",
       "    }\n",
       "</style>\n",
       "<table border=\"1\" class=\"dataframe\">\n",
       "  <thead>\n",
       "    <tr style=\"text-align: right;\">\n",
       "      <th></th>\n",
       "      <th>continent</th>\n",
       "    </tr>\n",
       "    <tr>\n",
       "      <th>code</th>\n",
       "      <th></th>\n",
       "    </tr>\n",
       "  </thead>\n",
       "  <tbody>\n",
       "    <tr>\n",
       "      <th>OWID_ABK</th>\n",
       "      <td>Asia</td>\n",
       "    </tr>\n",
       "    <tr>\n",
       "      <th>AFG</th>\n",
       "      <td>Asia</td>\n",
       "    </tr>\n",
       "    <tr>\n",
       "      <th>OWID_AKD</th>\n",
       "      <td>Asia</td>\n",
       "    </tr>\n",
       "    <tr>\n",
       "      <th>ALB</th>\n",
       "      <td>Europe</td>\n",
       "    </tr>\n",
       "    <tr>\n",
       "      <th>DZA</th>\n",
       "      <td>Africa</td>\n",
       "    </tr>\n",
       "  </tbody>\n",
       "</table>\n",
       "</div>"
      ],
      "text/plain": [
       "         continent\n",
       "code              \n",
       "OWID_ABK      Asia\n",
       "AFG           Asia\n",
       "OWID_AKD      Asia\n",
       "ALB         Europe\n",
       "DZA         Africa"
      ]
     },
     "execution_count": 194,
     "metadata": {},
     "output_type": "execute_result"
    }
   ],
   "source": [
    "\"\"\" Continent data \"\"\"\n",
    "continents = data.loc[:, ['code', 'continent']].dropna().set_index('code')\n",
    "continents.head()"
   ]
  },
  {
   "cell_type": "code",
   "execution_count": 195,
   "metadata": {
    "scrolled": true
   },
   "outputs": [
    {
     "data": {
      "text/plain": [
       "<AxesSubplot:xlabel='2015.0', ylabel='2021-01-28'>"
      ]
     },
     "execution_count": 195,
     "metadata": {},
     "output_type": "execute_result"
    },
    {
     "data": {
      "image/png": "[encoded data removed]",
      "text/plain": [
       "<Figure size 432x288 with 1 Axes>"
      ]
     },
     "metadata": {
      "needs_background": "light"
     },
     "output_type": "display_data"
    }
   ],
   "source": [
    "plot_data = pd.concat([gdp_latest, covid_latest, continents], axis=1)\n",
    "\n",
    "plot_data.plot.scatter(x=2015.0, y='2021-01-28')"
   ]
  },
  {
   "cell_type": "code",
   "execution_count": 200,
   "metadata": {},
   "outputs": [
    {
     "name": "stderr",
     "output_type": "stream",
     "text": [
      "<ipython-input-200-7a94cd72445a>:2: SettingWithCopyWarning: \n",
      "A value is trying to be set on a copy of a slice from a DataFrame\n",
      "\n",
      "See the caveats in the documentation: https://pandas.pydata.org/pandas-docs/stable/user_guide/indexing.html#returning-a-view-versus-a-copy\n",
      "  plot_data.head().dropna(inplace=True)\n"
     ]
    }
   ],
   "source": [
    "plot_data = plot_data.dropna(axis=0)\n",
    "plot_data.head().dropna(inplace=True)"
   ]
  },
  {
   "cell_type": "code",
   "execution_count": 168,
   "metadata": {},
   "outputs": [],
   "source": [
    "x = np.array(plot_data.loc[:, '2021-01-28']).reshape((-1, 1))\n",
    "y = np.array(plot_data.loc[:, 2015])"
   ]
  },
  {
   "cell_type": "code",
   "execution_count": 157,
   "metadata": {},
   "outputs": [],
   "source": [
    "model = LinearRegression()"
   ]
  },
  {
   "cell_type": "code",
   "execution_count": 158,
   "metadata": {},
   "outputs": [
    {
     "data": {
      "text/plain": [
       "LinearRegression()"
      ]
     },
     "execution_count": 158,
     "metadata": {},
     "output_type": "execute_result"
    }
   ],
   "source": [
    "model.fit(x, y)"
   ]
  },
  {
   "cell_type": "code",
   "execution_count": 159,
   "metadata": {},
   "outputs": [],
   "source": [
    "model = LinearRegression().fit(x, y)"
   ]
  },
  {
   "cell_type": "code",
   "execution_count": 160,
   "metadata": {},
   "outputs": [
    {
     "name": "stdout",
     "output_type": "stream",
     "text": [
      "coefficient of determination: 0.3662771567994322\n"
     ]
    }
   ],
   "source": [
    "r_sq = model.score(x, y)\n",
    "print('coefficient of determination:', r_sq)"
   ]
  },
  {
   "cell_type": "code",
   "execution_count": 161,
   "metadata": {},
   "outputs": [
    {
     "name": "stdout",
     "output_type": "stream",
     "text": [
      "intercept: 6.532241934424281\n",
      "slope: [0.31388156]\n"
     ]
    }
   ],
   "source": [
    "print('intercept:', model.intercept_)\n",
    "print('slope:', model.coef_)"
   ]
  },
  {
   "cell_type": "code",
   "execution_count": 163,
   "metadata": {},
   "outputs": [
    {
     "name": "stdout",
     "output_type": "stream",
     "text": [
      "[[  7.25138186  52.58253891]\n",
      " [  6.39450505  40.88969485]\n",
      " [ 10.17425236 103.51541101]\n",
      " [ 10.29654075 106.01875143]\n",
      " [ 10.64926395 113.40682262]\n",
      " [ 10.93748384 119.62855278]\n",
      " [  7.69416099  59.20011335]\n",
      " [  7.02942232  49.41277812]\n",
      " [ 10.72653782 115.05861367]\n",
      " [ 10.02852757 100.57136523]\n",
      " [  4.89194184  23.93109501]\n",
      " [ 11.01220146 121.26858109]\n",
      " [  5.74394505  32.99290476]\n",
      " [  6.20744047  38.53231722]\n",
      " [  8.08400184  65.35108573]\n",
      " [ 10.35177639 107.15927452]\n",
      " [ 10.99628463 120.91827571]\n",
      " [  9.94043679  98.81228365]\n",
      " [ 10.51705599 110.60846676]\n",
      " [ 10.15426047 103.10900576]\n",
      " [ 10.3019171  106.12949598]\n",
      " [  9.80103303  96.06024851]\n",
      " [ 10.66001323 113.63588207]\n",
      " [  8.54474941  73.01274243]\n",
      " [  6.01967535  36.23649137]\n",
      " [  7.01271151  49.17812276]\n",
      " [  9.11102709  83.01081464]\n",
      " [  6.93858803  48.1440038 ]\n",
      " [  9.92392248  98.48423739]\n",
      " [ 11.00234423 121.05157851]\n",
      " [ 10.52830188 110.84514039]\n",
      " [  4.23845934  17.96453754]\n",
      " [  6.9564302   48.39192111]\n",
      " [  7.01723012  49.24151855]\n",
      " [  5.51840425  30.45278548]\n",
      " [  7.26493869  52.77933422]\n",
      " [ 10.61236038 112.62219293]\n",
      " [  8.002225    64.03560494]\n",
      " [ 10.11827235 102.37943528]\n",
      " [ 10.5404771  111.10165751]\n",
      " [ 10.45923157 109.39552502]\n",
      " [ 11.40844816 130.1526894 ]\n",
      " [ 10.17325164 103.49504893]\n",
      " [  7.39338801  54.66218627]\n",
      " [ 10.438964   108.97196945]\n",
      " [  9.86424988  97.3034256 ]\n",
      " [  7.79613407  60.77970647]\n",
      " [  9.54274434  91.06396962]\n",
      " [  7.38109397  54.48054813]\n",
      " [ 10.96569628 120.24649497]\n",
      " [ 10.37834992 107.71014709]\n",
      " [  7.0728052   50.02457344]\n",
      " [  8.98070681  80.65309474]\n",
      " [  4.11666037  16.94689259]\n",
      " [ 10.78943901 116.4119941 ]\n",
      " [  2.16263313   4.67698207]\n",
      " [  8.46246918  71.61338457]\n",
      " [ 10.92062194 119.25998365]\n",
      " [ 11.07046875 122.55527838]\n",
      " [  7.62847093  58.19356877]\n",
      " [  7.0022988   49.0321885 ]\n",
      " [  7.41640013  55.00299084]\n",
      " [  7.15974825  51.26199507]\n",
      " [  8.2724457   68.4333578 ]\n",
      " [  9.60584315  92.2722227 ]\n",
      " [  7.18184514  51.57889968]\n",
      " [  9.08211374  82.48479001]\n",
      " [  9.15873787  83.88247941]\n",
      " [  9.59143375  91.99560146]\n",
      " [ 10.93780671 119.63561567]\n",
      " [  6.8974827   47.57526754]\n",
      " [ 10.53536712 110.99396042]\n",
      " [  8.24141149  67.92086342]\n",
      " [  8.95778423  80.24189832]\n",
      " [ 10.57686277 111.87002616]\n",
      " [  9.72042168  94.48659761]\n",
      " [  9.63852503  92.90116467]\n",
      " [  9.77482133  95.54713212]\n",
      " [ 11.19351989 125.29488763]\n",
      " [ 10.6359727  113.12391525]\n",
      " [  8.5588116   73.25325608]\n",
      " [ 10.36632475 107.46068886]\n",
      " [  8.00956379  64.15311207]\n",
      " [  9.42065065  88.74865863]\n",
      " [  7.53239661  56.73699872]\n",
      " [  9.46665576  89.61757134]\n",
      " [  3.32117967  11.03023442]\n",
      " [  6.54476472  42.83394523]\n",
      " [  7.31958741  53.57635982]\n",
      " [ 10.55251674 111.35560954]\n",
      " [  1.79972764   3.23901957]\n",
      " [ 10.66780648 113.80209508]\n",
      " [  5.94747086  35.37240965]\n",
      " [  9.74068711  94.88098543]\n",
      " [  8.63118059  74.49727835]\n",
      " [  7.96418006  63.42816399]\n",
      " [  8.25949908  68.21932513]\n",
      " [ 11.10018233 123.21404767]\n",
      " [ 11.29277117 127.52668062]\n",
      " [ 10.43194807 108.82554061]\n",
      " [  9.45015672  89.30546197]\n",
      " [ 10.57755484 111.88466637]\n",
      " [  6.51746741  42.47738146]\n",
      " [ 10.26352016 105.33984604]\n",
      " [  9.55808392  91.35696821]\n",
      " [  4.21322329  17.75125052]\n",
      " [ 10.6943668  114.36948117]\n",
      " [  5.98597702  35.83192086]\n",
      " [ 10.5817144  111.97267967]\n",
      " [  7.84677807  61.57192606]\n",
      " [ 11.47200475 131.60689291]\n",
      " [  6.25692593  39.14912214]\n",
      " [  7.0444316   49.62401651]\n",
      " [  8.17692436  66.86209194]\n",
      " [  6.10347317  37.25238468]\n",
      " [  7.06126575  49.86147405]\n",
      " [  8.7199639   76.03777039]\n",
      " [  9.48555145  89.97568638]\n",
      " [  5.21940943  27.24223481]\n",
      " [  6.42357808  41.26235532]\n",
      " [  6.850034    46.92296581]\n",
      " [ 10.95388799 119.98766204]\n",
      " [  9.3490065   87.40392248]\n",
      " [  9.13635039  83.4728985 ]\n",
      " [  6.16959818  38.0639417 ]\n",
      " [ 10.17302503 103.49043822]\n",
      " [ 10.32613303 106.62902334]\n",
      " [  9.47396277  89.75597052]\n",
      " [  7.80355632  60.8954913 ]\n",
      " [ 11.20400763 125.52978708]\n",
      " [ 10.42778673 108.73873606]\n",
      " [  8.46410165  71.64101673]\n",
      " [  4.55508669  20.74881472]\n",
      " [ 10.58520858 112.04664063]\n",
      " [ 11.11566826 123.55808086]\n",
      " [  9.81765283  96.38630706]\n",
      " [ 10.33825289 106.87947273]\n",
      " [ 10.86209721 117.98515585]\n",
      " [ 10.53223471 110.92796797]\n",
      " [ 10.15478803 103.11971995]\n",
      " [  7.02263544  49.3174085 ]\n",
      " [  9.26385308  85.81897392]\n",
      " [  6.49656682  42.2053805 ]\n",
      " [  7.33663869  53.8262673 ]\n",
      " [  9.22596999  85.11852227]\n",
      " [  3.20882549  10.29656102]\n",
      " [  6.01964862  36.23616949]\n",
      " [  9.02685866  81.48417731]\n",
      " [ 11.37920042 129.48620218]\n",
      " [ 10.95793576 120.07635607]\n",
      " [  5.86078622  34.34881516]\n",
      " [  8.63434278  74.55187528]\n",
      " [  9.55652126  91.3270985 ]\n",
      " [ 10.70518898 114.60107112]\n",
      " [ 11.27109186 127.03751178]\n",
      " [ 10.9355756  119.58681368]\n",
      " [  9.48593504  89.98296349]\n",
      " [  9.36597173  87.72142638]\n",
      " [  5.30160695  28.10703625]\n",
      " [  6.38777959  40.80372806]\n",
      " [  5.4484299   29.68538842]\n",
      " [  7.24087404  52.43025689]\n",
      " [  3.94305645  15.54769415]\n",
      " [  8.58921278  73.77457626]\n",
      " [  9.75791828  95.21696916]\n",
      " [ 10.2796545  105.67129658]\n",
      " [  2.1425337    4.59045068]\n",
      " [  6.75913461  45.68590073]\n",
      " [ 10.25867124 105.24033561]\n",
      " [  9.34857767  87.39590453]\n",
      " [ 11.26246641 126.84314956]\n",
      " [  7.76094134  60.2322105 ]\n",
      " [  8.91650742  79.5041046 ]\n",
      " [  2.83091659   8.01408874]\n",
      " [  1.18049945   1.39357895]\n",
      " [  2.31055326   5.33865638]\n",
      " [  4.26379193  18.17992166]\n",
      " [ 10.09586748 101.92654015]\n",
      " [  7.91465972  62.64183856]\n",
      " [  7.69460772  59.2069879 ]]\n"
     ]
    }
   ],
   "source": [
    "\"\"\" Polynomial regression \"\"\"\n",
    "transformer = PolynomialFeatures(degree=2, include_bias=False)\n",
    "transformer.fit(x)\n",
    "x_ = transformer.transform(x)\n",
    "print(x_)"
   ]
  },
  {
   "cell_type": "code",
   "execution_count": 164,
   "metadata": {},
   "outputs": [],
   "source": [
    "model = LinearRegression().fit(x_, y)"
   ]
  },
  {
   "cell_type": "code",
   "execution_count": 165,
   "metadata": {},
   "outputs": [
    {
     "name": "stdout",
     "output_type": "stream",
     "text": [
      "coefficient of determination: 0.43642753640634546\n",
      "intercept: 8.889618887181003\n",
      "coefficients: [-0.40970604  0.04895191]\n"
     ]
    }
   ],
   "source": [
    "r_sq = model.score(x_, y)\n",
    "print('coefficient of determination:', r_sq)\n",
    "print('intercept:', model.intercept_)\n",
    "print('coefficients:', model.coef_)"
   ]
  },
  {
   "cell_type": "markdown",
   "metadata": {},
   "source": [
    "## Plot scatter of GDP / COVID and polynomial regression model"
   ]
  },
  {
   "cell_type": "code",
   "execution_count": 327,
   "metadata": {},
   "outputs": [
    {
     "data": {
      "image/png": "[encoded data removed]",
      "text/plain": [
       "<Figure size 432x288 with 1 Axes>"
      ]
     },
     "metadata": {
      "needs_background": "light"
     },
     "output_type": "display_data"
    }
   ],
   "source": [
    "y = np.array(plot_data.loc[:, '2021-01-28']) # number of cases\n",
    "x = np.array(plot_data.loc[:, 2015]) # gdp\n",
    "\n",
    "mymodel = np.poly1d(np.polyfit(x, y, 2))\n",
    "\n",
    "myline = np.linspace(6, 12, 100)\n",
    "\n",
    "plt.scatter(x, y)\n",
    "plt.plot(myline, mymodel(myline))\n",
    "plt.show()"
   ]
  },
  {
   "cell_type": "code",
   "execution_count": 288,
   "metadata": {},
   "outputs": [],
   "source": [
    "asia = plot_data.loc[plot_data.loc[:, 'continent']=='Asia']\n",
    "namerica = plot_data.loc[plot_data.loc[:, 'continent']=='North America']\n",
    "samerica = plot_data.loc[plot_data.loc[:, 'continent']=='South America']\n",
    "europe = plot_data.loc[plot_data.loc[:, 'continent']=='Europe']\n",
    "africa = plot_data.loc[plot_data.loc[:, 'continent']=='Africa']\n",
    "oceania = plot_data.loc[plot_data.loc[:, 'continent']=='Oceania']"
   ]
  },
  {
   "cell_type": "code",
   "execution_count": 320,
   "metadata": {
    "scrolled": false
   },
   "outputs": [
    {
     "data": {
      "image/png": "[encoded data removed]",
      "text/plain": [
       "<Figure size 864x864 with 1 Axes>"
      ]
     },
     "metadata": {
      "needs_background": "light"
     },
     "output_type": "display_data"
    }
   ],
   "source": [
    "asdf = asia\n",
    "\n",
    "fig, ax = plt.subplots(figsize=(12, 12))\n",
    "\n",
    "x = np.array(asdf.loc[:, 2015])\n",
    "y = np.array(asdf.loc[:, '2021-01-28'])\n",
    "\n",
    "mymodel = np.poly1d(np.polyfit(x, y, 2))\n",
    "\n",
    "myline = np.linspace(7, 12, 100)\n",
    "\n",
    "plt.scatter(x, y)\n",
    "plt.plot(myline, mymodel(myline))\n",
    "\n",
    "for i, txt in enumerate(asdf.index):\n",
    "    ax.annotate(txt, (x[i], y[i]))\n",
    "\n",
    "plt.show()"
   ]
  },
  {
   "cell_type": "code",
   "execution_count": 319,
   "metadata": {},
   "outputs": [
    {
     "data": {
      "image/png": "[encoded data removed]",
      "text/plain": [
       "<Figure size 864x864 with 1 Axes>"
      ]
     },
     "metadata": {
      "needs_background": "light"
     },
     "output_type": "display_data"
    }
   ],
   "source": [
    "asdf = africa\n",
    "\n",
    "fig, ax = plt.subplots(figsize=(12, 12))\n",
    "\n",
    "x = np.array(asdf.loc[:, 2015])\n",
    "y = np.array(asdf.loc[:, '2021-01-28'])\n",
    "\n",
    "mymodel = np.poly1d(np.polyfit(x, y, 2))\n",
    "\n",
    "myline = np.linspace(6, 11, 100)\n",
    "\n",
    "plt.scatter(x, y)\n",
    "plt.plot(myline, mymodel(myline))\n",
    "\n",
    "for i, txt in enumerate(asdf.index):\n",
    "    ax.annotate(txt, (x[i], y[i]))\n",
    "\n",
    "plt.show()"
   ]
  },
  {
   "cell_type": "code",
   "execution_count": 317,
   "metadata": {},
   "outputs": [
    {
     "data": {
      "image/png": "[encoded data removed]",
      "text/plain": [
       "<Figure size 864x864 with 1 Axes>"
      ]
     },
     "metadata": {
      "needs_background": "light"
     },
     "output_type": "display_data"
    }
   ],
   "source": [
    "asdf = namerica\n",
    "\n",
    "fig, ax = plt.subplots(figsize=(12, 12))\n",
    "\n",
    "x = np.array(asdf.loc[:, 2015])\n",
    "y = np.array(asdf.loc[:, '2021-01-28'])\n",
    "\n",
    "mymodel = np.poly1d(np.polyfit(x, y, 2))\n",
    "\n",
    "myline = np.linspace(7, 12, 100)\n",
    "\n",
    "plt.scatter(x, y)\n",
    "plt.plot(myline, mymodel(myline))\n",
    "\n",
    "for i, txt in enumerate(asdf.index):\n",
    "    ax.annotate(txt, (x[i], y[i]))\n",
    "\n",
    "plt.show()"
   ]
  },
  {
   "cell_type": "code",
   "execution_count": 321,
   "metadata": {},
   "outputs": [
    {
     "data": {
      "image/png": "[encoded data removed]",
      "text/plain": [
       "<Figure size 864x864 with 1 Axes>"
      ]
     },
     "metadata": {
      "needs_background": "light"
     },
     "output_type": "display_data"
    }
   ],
   "source": [
    "asdf = oceania\n",
    "\n",
    "fig, ax = plt.subplots(figsize=(12, 12))\n",
    "\n",
    "x = np.array(asdf.loc[:, 2015])\n",
    "y = np.array(asdf.loc[:, '2021-01-28'])\n",
    "\n",
    "mymodel = np.poly1d(np.polyfit(x, y, 2))\n",
    "\n",
    "myline = np.linspace(7, 11, 100)\n",
    "\n",
    "plt.scatter(x, y)\n",
    "plt.plot(myline, mymodel(myline))\n",
    "\n",
    "for i, txt in enumerate(asdf.index):\n",
    "    ax.annotate(txt, (x[i], y[i]))\n",
    "\n",
    "plt.show()"
   ]
  },
  {
   "cell_type": "code",
   "execution_count": 313,
   "metadata": {},
   "outputs": [
    {
     "data": {
      "image/png": "[encoded data removed]",
      "text/plain": [
       "<Figure size 864x864 with 1 Axes>"
      ]
     },
     "metadata": {
      "needs_background": "light"
     },
     "output_type": "display_data"
    }
   ],
   "source": [
    "asdf = europe\n",
    "\n",
    "fig, ax = plt.subplots(figsize=(12, 12))\n",
    "\n",
    "x = np.array(asdf.loc[:, 2015])\n",
    "y = np.array(asdf.loc[:, '2021-01-28'])\n",
    "\n",
    "mymodel = np.poly1d(np.polyfit(x, y, 1))\n",
    "\n",
    "myline = np.linspace(8, 12, 100)\n",
    "\n",
    "plt.scatter(x, y)\n",
    "plt.plot(myline, mymodel(myline))\n",
    "\n",
    "for i, txt in enumerate(asdf.index):\n",
    "    ax.annotate(txt, (x[i], y[i]))\n",
    "\n",
    "plt.show()"
   ]
  },
  {
   "cell_type": "code",
   "execution_count": null,
   "metadata": {},
   "outputs": [],
   "source": []
  }
 ],
 "metadata": {
  "kernelspec": {
   "display_name": "Python 3",
   "language": "python",
   "name": "python3"
  },
  "language_info": {
   "codemirror_mode": {
    "name": "ipython",
    "version": 3
   },
   "file_extension": ".py",
   "mimetype": "text/x-python",
   "name": "python",
   "nbconvert_exporter": "python",
   "pygments_lexer": "ipython3",
   "version": "3.8.5"
  }
 },
 "nbformat": 4,
 "nbformat_minor": 4
}
